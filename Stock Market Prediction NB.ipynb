{
 "cells": [
  {
   "cell_type": "markdown",
   "id": "9a653e62",
   "metadata": {},
   "source": [
    "# Stock Market prediction using LSTMs "
   ]
  },
  {
   "cell_type": "code",
   "execution_count": 106,
   "id": "50c62e42",
   "metadata": {},
   "outputs": [
    {
     "name": "stdout",
     "output_type": "stream",
     "text": [
      "Requirement already satisfied: numpy==1.19.5 in c:\\users\\21355\\anaconda3\\lib\\site-packages (1.19.5)\n"
     ]
    }
   ],
   "source": [
    "!pip install numpy==1.19.5 "
   ]
  },
  {
   "cell_type": "code",
   "execution_count": 1,
   "id": "fdf4ba0c",
   "metadata": {},
   "outputs": [],
   "source": [
    "# Data Collection using pandas datareaders \n",
    "import pandas_datareader as pdr\n",
    "import pandas as pd\n",
    "import numpy as np"
   ]
  },
  {
   "cell_type": "code",
   "execution_count": 4,
   "id": "e4b7c1af",
   "metadata": {},
   "outputs": [
    {
     "data": {
      "text/plain": [
       "'1.19.5'"
      ]
     },
     "execution_count": 4,
     "metadata": {},
     "output_type": "execute_result"
    }
   ],
   "source": [
    "np.__version__"
   ]
  },
  {
   "cell_type": "code",
   "execution_count": 5,
   "id": "be48b989",
   "metadata": {},
   "outputs": [],
   "source": [
    "key = \"453ccefb94e7d534f35bb432da0f9e4abf344b4f\""
   ]
  },
  {
   "cell_type": "code",
   "execution_count": 6,
   "id": "48e50aaf",
   "metadata": {},
   "outputs": [],
   "source": [
    "data = pdr.get_data_tiingo(\"AAPL\",api_key = key)"
   ]
  },
  {
   "cell_type": "code",
   "execution_count": 8,
   "id": "ba69b36a",
   "metadata": {},
   "outputs": [
    {
     "data": {
      "text/html": [
       "<div>\n",
       "<style scoped>\n",
       "    .dataframe tbody tr th:only-of-type {\n",
       "        vertical-align: middle;\n",
       "    }\n",
       "\n",
       "    .dataframe tbody tr th {\n",
       "        vertical-align: top;\n",
       "    }\n",
       "\n",
       "    .dataframe thead th {\n",
       "        text-align: right;\n",
       "    }\n",
       "</style>\n",
       "<table border=\"1\" class=\"dataframe\">\n",
       "  <thead>\n",
       "    <tr style=\"text-align: right;\">\n",
       "      <th></th>\n",
       "      <th></th>\n",
       "      <th>close</th>\n",
       "      <th>high</th>\n",
       "      <th>low</th>\n",
       "      <th>open</th>\n",
       "      <th>volume</th>\n",
       "      <th>adjClose</th>\n",
       "      <th>adjHigh</th>\n",
       "      <th>adjLow</th>\n",
       "      <th>adjOpen</th>\n",
       "      <th>adjVolume</th>\n",
       "      <th>divCash</th>\n",
       "      <th>splitFactor</th>\n",
       "    </tr>\n",
       "    <tr>\n",
       "      <th>symbol</th>\n",
       "      <th>date</th>\n",
       "      <th></th>\n",
       "      <th></th>\n",
       "      <th></th>\n",
       "      <th></th>\n",
       "      <th></th>\n",
       "      <th></th>\n",
       "      <th></th>\n",
       "      <th></th>\n",
       "      <th></th>\n",
       "      <th></th>\n",
       "      <th></th>\n",
       "      <th></th>\n",
       "    </tr>\n",
       "  </thead>\n",
       "  <tbody>\n",
       "    <tr>\n",
       "      <th rowspan=\"5\" valign=\"top\">AAPL</th>\n",
       "      <th>2016-09-19 00:00:00+00:00</th>\n",
       "      <td>113.58</td>\n",
       "      <td>116.180</td>\n",
       "      <td>113.250</td>\n",
       "      <td>115.19</td>\n",
       "      <td>47023046</td>\n",
       "      <td>26.625172</td>\n",
       "      <td>27.234658</td>\n",
       "      <td>26.547814</td>\n",
       "      <td>27.002584</td>\n",
       "      <td>188092184</td>\n",
       "      <td>0.0</td>\n",
       "      <td>1.0</td>\n",
       "    </tr>\n",
       "    <tr>\n",
       "      <th>2016-09-20 00:00:00+00:00</th>\n",
       "      <td>113.57</td>\n",
       "      <td>114.120</td>\n",
       "      <td>112.510</td>\n",
       "      <td>113.05</td>\n",
       "      <td>34514269</td>\n",
       "      <td>26.622827</td>\n",
       "      <td>26.751757</td>\n",
       "      <td>26.374345</td>\n",
       "      <td>26.500930</td>\n",
       "      <td>138057076</td>\n",
       "      <td>0.0</td>\n",
       "      <td>1.0</td>\n",
       "    </tr>\n",
       "    <tr>\n",
       "      <th>2016-09-21 00:00:00+00:00</th>\n",
       "      <td>113.55</td>\n",
       "      <td>113.989</td>\n",
       "      <td>112.441</td>\n",
       "      <td>113.85</td>\n",
       "      <td>36003185</td>\n",
       "      <td>26.618139</td>\n",
       "      <td>26.721048</td>\n",
       "      <td>26.358170</td>\n",
       "      <td>26.688464</td>\n",
       "      <td>144012740</td>\n",
       "      <td>0.0</td>\n",
       "      <td>1.0</td>\n",
       "    </tr>\n",
       "    <tr>\n",
       "      <th>2016-09-22 00:00:00+00:00</th>\n",
       "      <td>114.62</td>\n",
       "      <td>114.940</td>\n",
       "      <td>114.000</td>\n",
       "      <td>114.35</td>\n",
       "      <td>31073984</td>\n",
       "      <td>26.868966</td>\n",
       "      <td>26.943980</td>\n",
       "      <td>26.723627</td>\n",
       "      <td>26.805673</td>\n",
       "      <td>124295936</td>\n",
       "      <td>0.0</td>\n",
       "      <td>1.0</td>\n",
       "    </tr>\n",
       "    <tr>\n",
       "      <th>2016-09-23 00:00:00+00:00</th>\n",
       "      <td>112.71</td>\n",
       "      <td>114.790</td>\n",
       "      <td>111.550</td>\n",
       "      <td>114.42</td>\n",
       "      <td>52481151</td>\n",
       "      <td>26.421228</td>\n",
       "      <td>26.908817</td>\n",
       "      <td>26.149304</td>\n",
       "      <td>26.822083</td>\n",
       "      <td>209924604</td>\n",
       "      <td>0.0</td>\n",
       "      <td>1.0</td>\n",
       "    </tr>\n",
       "  </tbody>\n",
       "</table>\n",
       "</div>"
      ],
      "text/plain": [
       "                                   close     high      low    open    volume  \\\n",
       "symbol date                                                                    \n",
       "AAPL   2016-09-19 00:00:00+00:00  113.58  116.180  113.250  115.19  47023046   \n",
       "       2016-09-20 00:00:00+00:00  113.57  114.120  112.510  113.05  34514269   \n",
       "       2016-09-21 00:00:00+00:00  113.55  113.989  112.441  113.85  36003185   \n",
       "       2016-09-22 00:00:00+00:00  114.62  114.940  114.000  114.35  31073984   \n",
       "       2016-09-23 00:00:00+00:00  112.71  114.790  111.550  114.42  52481151   \n",
       "\n",
       "                                   adjClose    adjHigh     adjLow    adjOpen  \\\n",
       "symbol date                                                                    \n",
       "AAPL   2016-09-19 00:00:00+00:00  26.625172  27.234658  26.547814  27.002584   \n",
       "       2016-09-20 00:00:00+00:00  26.622827  26.751757  26.374345  26.500930   \n",
       "       2016-09-21 00:00:00+00:00  26.618139  26.721048  26.358170  26.688464   \n",
       "       2016-09-22 00:00:00+00:00  26.868966  26.943980  26.723627  26.805673   \n",
       "       2016-09-23 00:00:00+00:00  26.421228  26.908817  26.149304  26.822083   \n",
       "\n",
       "                                  adjVolume  divCash  splitFactor  \n",
       "symbol date                                                        \n",
       "AAPL   2016-09-19 00:00:00+00:00  188092184      0.0          1.0  \n",
       "       2016-09-20 00:00:00+00:00  138057076      0.0          1.0  \n",
       "       2016-09-21 00:00:00+00:00  144012740      0.0          1.0  \n",
       "       2016-09-22 00:00:00+00:00  124295936      0.0          1.0  \n",
       "       2016-09-23 00:00:00+00:00  209924604      0.0          1.0  "
      ]
     },
     "execution_count": 8,
     "metadata": {},
     "output_type": "execute_result"
    }
   ],
   "source": [
    "data.head()"
   ]
  },
  {
   "cell_type": "code",
   "execution_count": 9,
   "id": "da6f4534",
   "metadata": {},
   "outputs": [],
   "source": [
    "data.to_csv(\"AAPL.csv\")"
   ]
  },
  {
   "cell_type": "code",
   "execution_count": 10,
   "id": "fb3d52a8",
   "metadata": {},
   "outputs": [],
   "source": [
    "data = pd.read_csv(\"AAPL.csv\")"
   ]
  },
  {
   "cell_type": "code",
   "execution_count": 11,
   "id": "3649f6c7",
   "metadata": {},
   "outputs": [],
   "source": [
    "data = data.reset_index()[\"close\"]"
   ]
  },
  {
   "cell_type": "code",
   "execution_count": 12,
   "id": "0f47e8b3",
   "metadata": {},
   "outputs": [
    {
     "data": {
      "text/plain": [
       "(1259,)"
      ]
     },
     "execution_count": 12,
     "metadata": {},
     "output_type": "execute_result"
    }
   ],
   "source": [
    "data.shape"
   ]
  },
  {
   "cell_type": "code",
   "execution_count": 13,
   "id": "c994637a",
   "metadata": {},
   "outputs": [],
   "source": [
    "# as LSTMs are sensitive to the scale of the data we are going to scale our data using the MinMax Scaling\n"
   ]
  },
  {
   "cell_type": "code",
   "execution_count": 14,
   "id": "4d2b6fd6",
   "metadata": {},
   "outputs": [],
   "source": [
    "from sklearn.preprocessing import MinMaxScaler"
   ]
  },
  {
   "cell_type": "code",
   "execution_count": 15,
   "id": "03a5648e",
   "metadata": {},
   "outputs": [],
   "source": [
    "scaler = MinMaxScaler(feature_range =(0,1))\n",
    "data = scaler.fit_transform(np.array(data).reshape(-1,1))"
   ]
  },
  {
   "cell_type": "code",
   "execution_count": 16,
   "id": "3d1ce022",
   "metadata": {},
   "outputs": [
    {
     "data": {
      "text/plain": [
       "(1259, 1)"
      ]
     },
     "execution_count": 16,
     "metadata": {},
     "output_type": "execute_result"
    }
   ],
   "source": [
    "data.shape"
   ]
  },
  {
   "cell_type": "code",
   "execution_count": 17,
   "id": "7ce42e2d",
   "metadata": {},
   "outputs": [
    {
     "data": {
      "text/plain": [
       "array([[0.12732904],\n",
       "       [0.12338279],\n",
       "       [0.12078525],\n",
       "       [0.10804736],\n",
       "       [0.10949598],\n",
       "       [0.10592437],\n",
       "       [0.10819721],\n",
       "       [0.10759778],\n",
       "       [0.10077926]])"
      ]
     },
     "execution_count": 17,
     "metadata": {},
     "output_type": "execute_result"
    }
   ],
   "source": [
    "data[1250:]"
   ]
  },
  {
   "cell_type": "markdown",
   "id": "68e715db",
   "metadata": {},
   "source": [
    "# Pre-processing the DAta"
   ]
  },
  {
   "cell_type": "markdown",
   "id": "4ee1beb3",
   "metadata": {},
   "source": [
    "in the timeseries data we should not split the data using train_test_split all using the random seed because the data are relative, every element is relative with it\"s previous element and it\"s next element \n",
    "so we are going to calculate the training size and the test size and spliting the data "
   ]
  },
  {
   "cell_type": "code",
   "execution_count": 18,
   "id": "6d909579",
   "metadata": {},
   "outputs": [],
   "source": [
    "training_size = int(len(data) *0.7)\n",
    "test_size = len(data) - training_size\n",
    "train_data , test_data = data[:training_size,:], data[training_size:,:1]"
   ]
  },
  {
   "cell_type": "code",
   "execution_count": 19,
   "id": "c9fe17e7",
   "metadata": {},
   "outputs": [
    {
     "data": {
      "text/plain": [
       "(881, 1)"
      ]
     },
     "execution_count": 19,
     "metadata": {},
     "output_type": "execute_result"
    }
   ],
   "source": [
    "train_data.shape"
   ]
  },
  {
   "cell_type": "code",
   "execution_count": 20,
   "id": "8b5f58c9",
   "metadata": {},
   "outputs": [
    {
     "data": {
      "text/plain": [
       "(378, 1)"
      ]
     },
     "execution_count": 20,
     "metadata": {},
     "output_type": "execute_result"
    }
   ],
   "source": [
    "test_data.shape"
   ]
  },
  {
   "cell_type": "markdown",
   "id": "8fc9333a",
   "metadata": {},
   "source": [
    "Now we will convert our dataset into a matrix which has the features and their labels, the labels are the values to predict"
   ]
  },
  {
   "cell_type": "code",
   "execution_count": 21,
   "id": "7c5706bd",
   "metadata": {},
   "outputs": [],
   "source": [
    "def create_dataset(dataset,timestep=1): \n",
    "    Xs,Ys= [], []\n",
    "    for i in range(len(dataset)-timestep-1): \n",
    "        # i = 0,1,2,3,4....\n",
    "        x = dataset[i:i+timestep,0]\n",
    "        Xs.append(x)\n",
    "        Ys.append(dataset[i+timestep,0])\n",
    "    return np.array(Xs),np.array(Ys)"
   ]
  },
  {
   "cell_type": "code",
   "execution_count": 24,
   "id": "e0540775",
   "metadata": {},
   "outputs": [],
   "source": [
    "time_step =100\n",
    "x_train , y_train = create_dataset(train_data,time_step)\n",
    "x_test,y_test = create_dataset(test_data,time_step)"
   ]
  },
  {
   "cell_type": "code",
   "execution_count": 25,
   "id": "a6a13086",
   "metadata": {
    "scrolled": true
   },
   "outputs": [],
   "source": [
    "#we are going to reshape our x_train because we will give it to an LSTM model so we reshape to make vectors of data\n",
    "x_train = x_train.reshape(x_train.shape[0],x_train.shape[1],1)\n",
    "x_test = x_test.reshape(x_test.shape[0],x_test.shape[1],1)"
   ]
  },
  {
   "cell_type": "code",
   "execution_count": 26,
   "id": "f675fdcb",
   "metadata": {},
   "outputs": [
    {
     "data": {
      "text/plain": [
       "(277, 100, 1)"
      ]
     },
     "execution_count": 26,
     "metadata": {},
     "output_type": "execute_result"
    }
   ],
   "source": [
    "x_test.shape"
   ]
  },
  {
   "cell_type": "markdown",
   "id": "38c089b4",
   "metadata": {},
   "source": [
    "# Creating the model  "
   ]
  },
  {
   "cell_type": "code",
   "execution_count": 30,
   "id": "130e7172",
   "metadata": {},
   "outputs": [],
   "source": [
    "from tensorflow.keras.models import Sequential\n",
    "from tensorflow.keras.layers import LSTM , Dense"
   ]
  },
  {
   "cell_type": "code",
   "execution_count": 38,
   "id": "572f0139",
   "metadata": {},
   "outputs": [],
   "source": [
    "model = Sequential()\n",
    "model.add(LSTM(50,return_sequences =True,input_shape=(100,1)))\n",
    "model.add(LSTM(50,return_sequences=True))\n",
    "model.add(LSTM(50))\n",
    "model.add(Dense(1))\n"
   ]
  },
  {
   "cell_type": "code",
   "execution_count": 39,
   "id": "ff35aa77",
   "metadata": {},
   "outputs": [],
   "source": [
    "model.compile(loss=\"mean_squared_error\",optimizer  \"adam\")"
   ]
  },
  {
   "cell_type": "code",
   "execution_count": 102,
   "id": "1472566a",
   "metadata": {},
   "outputs": [
    {
     "data": {
      "text/plain": [
       "0.019656326489834675"
      ]
     },
     "execution_count": 102,
     "metadata": {},
     "output_type": "execute_result"
    }
   ],
   "source": []
  },
  {
   "cell_type": "code",
   "execution_count": 46,
   "id": "8fbabcdf",
   "metadata": {
    "scrolled": true
   },
   "outputs": [
    {
     "name": "stdout",
     "output_type": "stream",
     "text": [
      "Epoch 1/100\n",
      "13/13 [==============================] - 2s 164ms/step - loss: 2.0415e-04 - val_loss: 0.0082\n",
      "Epoch 2/100\n",
      "13/13 [==============================] - 3s 198ms/step - loss: 1.9717e-04 - val_loss: 0.0076\n",
      "Epoch 3/100\n",
      "13/13 [==============================] - 2s 168ms/step - loss: 2.2937e-04 - val_loss: 0.0073\n",
      "Epoch 4/100\n",
      "13/13 [==============================] - 2s 168ms/step - loss: 3.9555e-04 - val_loss: 0.0086\n",
      "Epoch 5/100\n",
      "13/13 [==============================] - 2s 161ms/step - loss: 3.2328e-04 - val_loss: 0.0070\n",
      "Epoch 6/100\n",
      "13/13 [==============================] - 2s 167ms/step - loss: 2.5860e-04 - val_loss: 0.0078\n",
      "Epoch 7/100\n",
      "13/13 [==============================] - 2s 170ms/step - loss: 2.0798e-04 - val_loss: 0.0071\n",
      "Epoch 8/100\n",
      "13/13 [==============================] - 2s 163ms/step - loss: 2.3707e-04 - val_loss: 0.0073\n",
      "Epoch 9/100\n",
      "13/13 [==============================] - 2s 161ms/step - loss: 1.9014e-04 - val_loss: 0.0069\n",
      "Epoch 10/100\n",
      "13/13 [==============================] - 2s 160ms/step - loss: 1.9985e-04 - val_loss: 0.0070\n",
      "Epoch 11/100\n",
      "13/13 [==============================] - 2s 162ms/step - loss: 1.8944e-04 - val_loss: 0.0067\n",
      "Epoch 12/100\n",
      "13/13 [==============================] - 2s 174ms/step - loss: 1.8166e-04 - val_loss: 0.0067\n",
      "Epoch 13/100\n",
      "13/13 [==============================] - 2s 161ms/step - loss: 2.0583e-04 - val_loss: 0.0068\n",
      "Epoch 14/100\n",
      "13/13 [==============================] - 2s 162ms/step - loss: 1.8407e-04 - val_loss: 0.0064\n",
      "Epoch 15/100\n",
      "13/13 [==============================] - 2s 170ms/step - loss: 2.1404e-04 - val_loss: 0.0067\n",
      "Epoch 16/100\n",
      "13/13 [==============================] - 2s 166ms/step - loss: 2.0150e-04 - val_loss: 0.0063\n",
      "Epoch 17/100\n",
      "13/13 [==============================] - 2s 160ms/step - loss: 1.8890e-04 - val_loss: 0.0063\n",
      "Epoch 18/100\n",
      "13/13 [==============================] - 2s 161ms/step - loss: 1.7111e-04 - val_loss: 0.0062\n",
      "Epoch 19/100\n",
      "13/13 [==============================] - 2s 161ms/step - loss: 1.7365e-04 - val_loss: 0.0060\n",
      "Epoch 20/100\n",
      "13/13 [==============================] - 2s 167ms/step - loss: 1.8085e-04 - val_loss: 0.0061\n",
      "Epoch 21/100\n",
      "13/13 [==============================] - 2s 180ms/step - loss: 1.8061e-04 - val_loss: 0.0059\n",
      "Epoch 22/100\n",
      "13/13 [==============================] - 2s 165ms/step - loss: 1.7203e-04 - val_loss: 0.0060\n",
      "Epoch 23/100\n",
      "13/13 [==============================] - 2s 162ms/step - loss: 1.7262e-04 - val_loss: 0.0057\n",
      "Epoch 24/100\n",
      "13/13 [==============================] - 2s 161ms/step - loss: 1.6822e-04 - val_loss: 0.0059\n",
      "Epoch 25/100\n",
      "13/13 [==============================] - 2s 166ms/step - loss: 1.7009e-04 - val_loss: 0.0058\n",
      "Epoch 26/100\n",
      "13/13 [==============================] - 2s 162ms/step - loss: 1.8136e-04 - val_loss: 0.0057\n",
      "Epoch 27/100\n",
      "13/13 [==============================] - 2s 171ms/step - loss: 1.6120e-04 - val_loss: 0.0056\n",
      "Epoch 28/100\n",
      "13/13 [==============================] - 2s 167ms/step - loss: 1.5600e-04 - val_loss: 0.0057\n",
      "Epoch 29/100\n",
      "13/13 [==============================] - 2s 190ms/step - loss: 1.5178e-04 - val_loss: 0.0053\n",
      "Epoch 30/100\n",
      "13/13 [==============================] - 2s 164ms/step - loss: 1.9976e-04 - val_loss: 0.0058\n",
      "Epoch 31/100\n",
      "13/13 [==============================] - 2s 188ms/step - loss: 1.8789e-04 - val_loss: 0.0053\n",
      "Epoch 32/100\n",
      "13/13 [==============================] - 2s 172ms/step - loss: 1.5065e-04 - val_loss: 0.0054\n",
      "Epoch 33/100\n",
      "13/13 [==============================] - 2s 161ms/step - loss: 1.5143e-04 - val_loss: 0.0055\n",
      "Epoch 34/100\n",
      "13/13 [==============================] - 2s 178ms/step - loss: 1.6142e-04 - val_loss: 0.0053\n",
      "Epoch 35/100\n",
      "13/13 [==============================] - 2s 162ms/step - loss: 1.6192e-04 - val_loss: 0.0053\n",
      "Epoch 36/100\n",
      "13/13 [==============================] - 2s 165ms/step - loss: 1.5415e-04 - val_loss: 0.0051\n",
      "Epoch 37/100\n",
      "13/13 [==============================] - 2s 161ms/step - loss: 1.5390e-04 - val_loss: 0.0052\n",
      "Epoch 38/100\n",
      "13/13 [==============================] - 2s 184ms/step - loss: 1.4781e-04 - val_loss: 0.0052\n",
      "Epoch 39/100\n",
      "13/13 [==============================] - 3s 214ms/step - loss: 1.5330e-04 - val_loss: 0.0050\n",
      "Epoch 40/100\n",
      "13/13 [==============================] - 2s 189ms/step - loss: 1.5850e-04 - val_loss: 0.0049\n",
      "Epoch 41/100\n",
      "13/13 [==============================] - 2s 189ms/step - loss: 1.5534e-04 - val_loss: 0.0048\n",
      "Epoch 42/100\n",
      "13/13 [==============================] - 3s 193ms/step - loss: 1.5713e-04 - val_loss: 0.0051\n",
      "Epoch 43/100\n",
      "13/13 [==============================] - 3s 201ms/step - loss: 1.4615e-04 - val_loss: 0.0051\n",
      "Epoch 44/100\n",
      "13/13 [==============================] - 2s 170ms/step - loss: 1.4829e-04 - val_loss: 0.0049\n",
      "Epoch 45/100\n",
      "13/13 [==============================] - 3s 217ms/step - loss: 1.4188e-04 - val_loss: 0.0051\n",
      "Epoch 46/100\n",
      "13/13 [==============================] - 2s 183ms/step - loss: 1.3963e-04 - val_loss: 0.0050\n",
      "Epoch 47/100\n",
      "13/13 [==============================] - 2s 170ms/step - loss: 1.4012e-04 - val_loss: 0.0048\n",
      "Epoch 48/100\n",
      "13/13 [==============================] - 2s 164ms/step - loss: 1.3775e-04 - val_loss: 0.0051\n",
      "Epoch 49/100\n",
      "13/13 [==============================] - 2s 168ms/step - loss: 1.4028e-04 - val_loss: 0.0046\n",
      "Epoch 50/100\n",
      "13/13 [==============================] - 2s 150ms/step - loss: 1.3385e-04 - val_loss: 0.0048\n",
      "Epoch 51/100\n",
      "13/13 [==============================] - 2s 150ms/step - loss: 1.4280e-04 - val_loss: 0.0046\n",
      "Epoch 52/100\n",
      "13/13 [==============================] - 2s 149ms/step - loss: 1.4311e-04 - val_loss: 0.0046\n",
      "Epoch 53/100\n",
      "13/13 [==============================] - 2s 158ms/step - loss: 1.3834e-04 - val_loss: 0.0046\n",
      "Epoch 54/100\n",
      "13/13 [==============================] - 2s 152ms/step - loss: 1.4503e-04 - val_loss: 0.0046\n",
      "Epoch 55/100\n",
      "13/13 [==============================] - 2s 149ms/step - loss: 1.6997e-04 - val_loss: 0.0046\n",
      "Epoch 56/100\n",
      "13/13 [==============================] - 2s 148ms/step - loss: 1.7078e-04 - val_loss: 0.0048\n",
      "Epoch 57/100\n",
      "13/13 [==============================] - 2s 147ms/step - loss: 1.8095e-04 - val_loss: 0.0045\n",
      "Epoch 58/100\n",
      "13/13 [==============================] - 2s 147ms/step - loss: 1.6745e-04 - val_loss: 0.0045\n",
      "Epoch 59/100\n",
      "13/13 [==============================] - 2s 150ms/step - loss: 1.4893e-04 - val_loss: 0.0044\n",
      "Epoch 60/100\n",
      "13/13 [==============================] - 2s 183ms/step - loss: 1.4350e-04 - val_loss: 0.0044\n",
      "Epoch 61/100\n",
      "13/13 [==============================] - 2s 164ms/step - loss: 1.3409e-04 - val_loss: 0.0044\n",
      "Epoch 62/100\n",
      "13/13 [==============================] - 2s 170ms/step - loss: 1.3341e-04 - val_loss: 0.0043\n",
      "Epoch 63/100\n",
      "13/13 [==============================] - 2s 173ms/step - loss: 1.3019e-04 - val_loss: 0.0042\n",
      "Epoch 64/100\n",
      "13/13 [==============================] - 2s 162ms/step - loss: 1.4346e-04 - val_loss: 0.0042\n",
      "Epoch 65/100\n",
      "13/13 [==============================] - 2s 163ms/step - loss: 1.2748e-04 - val_loss: 0.0042\n",
      "Epoch 66/100\n",
      "13/13 [==============================] - 2s 163ms/step - loss: 1.2584e-04 - val_loss: 0.0042\n",
      "Epoch 67/100\n",
      "13/13 [==============================] - 2s 162ms/step - loss: 1.2872e-04 - val_loss: 0.0043\n",
      "Epoch 68/100\n",
      "13/13 [==============================] - 2s 176ms/step - loss: 1.3538e-04 - val_loss: 0.0042\n",
      "Epoch 69/100\n",
      "13/13 [==============================] - 2s 163ms/step - loss: 1.4440e-04 - val_loss: 0.0042\n",
      "Epoch 70/100\n",
      "13/13 [==============================] - 2s 163ms/step - loss: 1.3460e-04 - val_loss: 0.0044\n",
      "Epoch 71/100\n",
      "13/13 [==============================] - 2s 175ms/step - loss: 1.3371e-04 - val_loss: 0.0042\n",
      "Epoch 72/100\n",
      "13/13 [==============================] - 2s 165ms/step - loss: 1.3433e-04 - val_loss: 0.0042\n",
      "Epoch 73/100\n",
      "13/13 [==============================] - 2s 170ms/step - loss: 1.7296e-04 - val_loss: 0.0043\n",
      "Epoch 74/100\n",
      "13/13 [==============================] - 2s 166ms/step - loss: 1.6335e-04 - val_loss: 0.0041\n",
      "Epoch 75/100\n",
      "13/13 [==============================] - 2s 185ms/step - loss: 1.9678e-04 - val_loss: 0.0041\n",
      "Epoch 76/100\n",
      "13/13 [==============================] - 2s 163ms/step - loss: 1.7613e-04 - val_loss: 0.0042\n",
      "Epoch 77/100\n",
      "13/13 [==============================] - 2s 162ms/step - loss: 1.5969e-04 - val_loss: 0.0043\n",
      "Epoch 78/100\n"
     ]
    },
    {
     "name": "stdout",
     "output_type": "stream",
     "text": [
      "13/13 [==============================] - 2s 161ms/step - loss: 1.4748e-04 - val_loss: 0.0041\n",
      "Epoch 79/100\n",
      "13/13 [==============================] - 2s 160ms/step - loss: 1.2698e-04 - val_loss: 0.0041\n",
      "Epoch 80/100\n",
      "13/13 [==============================] - 2s 175ms/step - loss: 1.3241e-04 - val_loss: 0.0042\n",
      "Epoch 81/100\n",
      "13/13 [==============================] - 2s 186ms/step - loss: 1.4389e-04 - val_loss: 0.0041\n",
      "Epoch 82/100\n",
      "13/13 [==============================] - 2s 181ms/step - loss: 1.3591e-04 - val_loss: 0.0042\n",
      "Epoch 83/100\n",
      "13/13 [==============================] - 2s 166ms/step - loss: 1.2786e-04 - val_loss: 0.0040\n",
      "Epoch 84/100\n",
      "13/13 [==============================] - 2s 179ms/step - loss: 1.3743e-04 - val_loss: 0.0039\n",
      "Epoch 85/100\n",
      "13/13 [==============================] - 2s 172ms/step - loss: 1.2929e-04 - val_loss: 0.0039\n",
      "Epoch 86/100\n",
      "13/13 [==============================] - 2s 171ms/step - loss: 1.1940e-04 - val_loss: 0.0038\n",
      "Epoch 87/100\n",
      "13/13 [==============================] - 2s 167ms/step - loss: 1.3427e-04 - val_loss: 0.0038\n",
      "Epoch 88/100\n",
      "13/13 [==============================] - 3s 228ms/step - loss: 1.2416e-04 - val_loss: 0.0039\n",
      "Epoch 89/100\n",
      "13/13 [==============================] - 2s 171ms/step - loss: 1.3289e-04 - val_loss: 0.0039\n",
      "Epoch 90/100\n",
      "13/13 [==============================] - 4s 273ms/step - loss: 1.2336e-04 - val_loss: 0.0039\n",
      "Epoch 91/100\n",
      "13/13 [==============================] - 3s 224ms/step - loss: 1.2731e-04 - val_loss: 0.0039\n",
      "Epoch 92/100\n",
      "13/13 [==============================] - 3s 208ms/step - loss: 1.2479e-04 - val_loss: 0.0040\n",
      "Epoch 93/100\n",
      "13/13 [==============================] - 4s 293ms/step - loss: 1.2005e-04 - val_loss: 0.0040\n",
      "Epoch 94/100\n",
      "13/13 [==============================] - 2s 171ms/step - loss: 1.2590e-04 - val_loss: 0.0040\n",
      "Epoch 95/100\n",
      "13/13 [==============================] - 3s 197ms/step - loss: 1.1979e-04 - val_loss: 0.0041\n",
      "Epoch 96/100\n",
      "13/13 [==============================] - 2s 173ms/step - loss: 1.2510e-04 - val_loss: 0.0039\n",
      "Epoch 97/100\n",
      "13/13 [==============================] - 2s 166ms/step - loss: 1.1642e-04 - val_loss: 0.0039\n",
      "Epoch 98/100\n",
      "13/13 [==============================] - 4s 288ms/step - loss: 1.2363e-04 - val_loss: 0.0039\n",
      "Epoch 99/100\n",
      "13/13 [==============================] - 2s 162ms/step - loss: 1.2075e-04 - val_loss: 0.0039\n",
      "Epoch 100/100\n",
      "13/13 [==============================] - 2s 152ms/step - loss: 1.5017e-04 - val_loss: 0.0041\n"
     ]
    }
   ],
   "source": [
    "history = model.fit(x_train,y_train,validation_data=(x_test,y_test),epochs =100,batch_size = 64,verbose=1)"
   ]
  },
  {
   "cell_type": "code",
   "execution_count": 47,
   "id": "252b037e",
   "metadata": {},
   "outputs": [
    {
     "name": "stdout",
     "output_type": "stream",
     "text": [
      "9/9 [==============================] - 0s 1ms/step - loss: 0.0000e+00\n"
     ]
    },
    {
     "data": {
      "text/plain": [
       "0.0"
      ]
     },
     "execution_count": 47,
     "metadata": {},
     "output_type": "execute_result"
    }
   ],
   "source": [
    "model.evaluate(x_test)"
   ]
  },
  {
   "cell_type": "code",
   "execution_count": 48,
   "id": "9d3437e5",
   "metadata": {},
   "outputs": [],
   "source": [
    "train_predict  = model.predict(x_train)\n",
    "test_predict = model.predict(x_test)"
   ]
  },
  {
   "cell_type": "markdown",
   "id": "fa60f40e",
   "metadata": {},
   "source": [
    "since our data are scaled we are inversing the scaling to have meaningfull data"
   ]
  },
  {
   "cell_type": "code",
   "execution_count": 49,
   "id": "2fe6a083",
   "metadata": {},
   "outputs": [],
   "source": [
    "train_predict = scaler.inverse_transform(train_predict)\n",
    "test_predict = scaler.inverse_transform(test_predict)\n"
   ]
  },
  {
   "cell_type": "code",
   "execution_count": 50,
   "id": "10b18d63",
   "metadata": {},
   "outputs": [
    {
     "data": {
      "text/plain": [
       "196.9898489448072"
      ]
     },
     "execution_count": 50,
     "metadata": {},
     "output_type": "execute_result"
    }
   ],
   "source": [
    "import math \n",
    "from sklearn.metrics import mean_squared_error\n",
    "math.sqrt(mean_squared_error(y_train,train_predict))"
   ]
  },
  {
   "cell_type": "code",
   "execution_count": 62,
   "id": "fd0691c8",
   "metadata": {},
   "outputs": [
    {
     "data": {
      "text/plain": [
       "163.03410833716606"
      ]
     },
     "execution_count": 62,
     "metadata": {},
     "output_type": "execute_result"
    }
   ],
   "source": [
    "math.sqrt(mean_squared_error(y_test,test_predict))"
   ]
  },
  {
   "cell_type": "code",
   "execution_count": 53,
   "id": "3bb31153",
   "metadata": {},
   "outputs": [],
   "source": [
    "import matplotlib.pyplot as plt \n",
    "%matplotlib inline"
   ]
  },
  {
   "cell_type": "code",
   "execution_count": 58,
   "id": "fcc53794",
   "metadata": {},
   "outputs": [
    {
     "data": {
      "text/plain": [
       "[<matplotlib.lines.Line2D at 0x191355aa8b0>]"
      ]
     },
     "execution_count": 58,
     "metadata": {},
     "output_type": "execute_result"
    },
    {
     "data": {
      "image/png": "[encoded data removed]",
      "text/plain": [
       "<Figure size 432x288 with 1 Axes>"
      ]
     },
     "metadata": {
      "needs_background": "light"
     },
     "output_type": "display_data"
    }
   ],
   "source": [
    "plt.plot(train_predict)\n",
    "plt.plot(test_predict)\n",
    "plt.plot(scaler.inverse_transform(data))"
   ]
  },
  {
   "cell_type": "code",
   "execution_count": 74,
   "id": "207e11f4",
   "metadata": {},
   "outputs": [
    {
     "data": {
      "image/png": "[encoded data removed]",
      "text/plain": [
       "<Figure size 432x288 with 1 Axes>"
      ]
     },
     "metadata": {
      "needs_background": "light"
     },
     "output_type": "display_data"
    }
   ],
   "source": [
    "look_back = 100 \n",
    "train_predict_plot = np.empty_like(data)\n",
    "train_predict_plot[:,:] = np.nan\n",
    "train_predict_plot[look_back: len(train_predict) + look_back,: ] = train_predict\n",
    "\n",
    "test_predict_plot = np.empty_like(data)\n",
    "test_predict_plot[:,:] = np.nan\n",
    "test_predict_plot[len(train_predict)  + (look_back*2) +1:len(data)-1,: ] = test_predict\n",
    "\n",
    "\n",
    "\n",
    "plt.plot(scaler.inverse_transform(data))\n",
    "plt.plot(train_predict_plot)\n",
    "plt.plot(test_predict_plot)\n",
    "plt.show()"
   ]
  },
  {
   "cell_type": "code",
   "execution_count": 76,
   "id": "a75e9abc",
   "metadata": {},
   "outputs": [
    {
     "data": {
      "text/plain": [
       "(1259, 1)"
      ]
     },
     "execution_count": 76,
     "metadata": {},
     "output_type": "execute_result"
    }
   ],
   "source": [
    "test_predict_plot.shape"
   ]
  },
  {
   "cell_type": "markdown",
   "id": "d36b518c",
   "metadata": {},
   "source": [
    "# Predicting the future 30 days"
   ]
  },
  {
   "cell_type": "code",
   "execution_count": 78,
   "id": "f1aa46e3",
   "metadata": {},
   "outputs": [
    {
     "data": {
      "text/plain": [
       "378"
      ]
     },
     "execution_count": 78,
     "metadata": {},
     "output_type": "execute_result"
    }
   ],
   "source": [
    "len(test_data)"
   ]
  },
  {
   "cell_type": "code",
   "execution_count": 82,
   "id": "3f978b96",
   "metadata": {},
   "outputs": [],
   "source": [
    "in_put = test_data[278:].reshape(1,-1)"
   ]
  },
  {
   "cell_type": "code",
   "execution_count": 85,
   "id": "15b1521b",
   "metadata": {},
   "outputs": [
    {
     "data": {
      "text/plain": [
       "(1, 100)"
      ]
     },
     "execution_count": 85,
     "metadata": {},
     "output_type": "execute_result"
    }
   ],
   "source": [
    "in_put.shape\n"
   ]
  },
  {
   "cell_type": "code",
   "execution_count": 89,
   "id": "6c73a29b",
   "metadata": {},
   "outputs": [],
   "source": [
    "in_put = list(in_put)[0].tolist()"
   ]
  },
  {
   "cell_type": "code",
   "execution_count": 106,
   "id": "84f1ca84",
   "metadata": {},
   "outputs": [
    {
     "data": {
      "text/plain": [
       "array([0.06960887, 0.06935911, 0.0643139 , 0.06701134, 0.05529747,\n",
       "       0.05592187, 0.06001798, 0.06119187, 0.05279984, 0.05045207,\n",
       "       0.04260952, 0.0481043 , 0.05429842, 0.05135122, 0.04780459,\n",
       "       0.04740497, 0.05394875, 0.04925321, 0.05342425, 0.05292472,\n",
       "       0.05279984, 0.04887857, 0.04720516, 0.04638094, 0.04832909,\n",
       "       0.04453269, 0.05040212, 0.05042709, 0.0525251 , 0.05349918,\n",
       "       0.0509516 , 0.05404865, 0.06186623, 0.05976822, 0.06104201,\n",
       "       0.06513812, 0.06181627, 0.06641191, 0.07060792, 0.06990859,\n",
       "       0.06918427, 0.06843499, 0.07260602, 0.07647735, 0.07805085,\n",
       "       0.07882512, 0.08554373, 0.09068885, 0.0970578 , 0.09373595,\n",
       "       0.09840651, 0.09688296, 0.09973026, 0.10849693, 0.10682352,\n",
       "       0.10160348, 0.09176283, 0.10100405, 0.09913083, 0.1026275 ,\n",
       "       0.10702333, 0.10809731, 0.10255258, 0.09808182, 0.09973026,\n",
       "       0.10027973, 0.09943054, 0.10402618, 0.10300215, 0.10327689,\n",
       "       0.10097907, 0.10085419, 0.09963035, 0.10027973, 0.10784754,\n",
       "       0.10837205, 0.11341725, 0.11109446, 0.10152855, 0.10237774,\n",
       "       0.10609921, 0.1098956 , 0.10967081, 0.1065238 , 0.10447575,\n",
       "       0.10712323, 0.11841251, 0.11519057, 0.11688896, 0.11973625,\n",
       "       0.12135971, 0.12732904, 0.12338279, 0.12078525, 0.10804736,\n",
       "       0.10949598, 0.10592437, 0.10819721, 0.10759778, 0.10077926])"
      ]
     },
     "execution_count": 106,
     "metadata": {},
     "output_type": "execute_result"
    }
   ],
   "source": [
    "np.array(in_put)"
   ]
  },
  {
   "cell_type": "code",
   "execution_count": 108,
   "id": "59e0bb86",
   "metadata": {},
   "outputs": [
    {
     "name": "stdout",
     "output_type": "stream",
     "text": [
      "0 day input [0.06935911 0.0643139  0.06701134 0.05529747 0.05592187 0.06001798\n",
      " 0.06119187 0.05279984 0.05045207 0.04260952 0.0481043  0.05429842\n",
      " 0.05135122 0.04780459 0.04740497 0.05394875 0.04925321 0.05342425\n",
      " 0.05292472 0.05279984 0.04887857 0.04720516 0.04638094 0.04832909\n",
      " 0.04453269 0.05040212 0.05042709 0.0525251  0.05349918 0.0509516\n",
      " 0.05404865 0.06186623 0.05976822 0.06104201 0.06513812 0.06181627\n",
      " 0.06641191 0.07060792 0.06990859 0.06918427 0.06843499 0.07260602\n",
      " 0.07647735 0.07805085 0.07882512 0.08554373 0.09068885 0.0970578\n",
      " 0.09373595 0.09840651 0.09688296 0.09973026 0.10849693 0.10682352\n",
      " 0.10160348 0.09176283 0.10100405 0.09913083 0.1026275  0.10702333\n",
      " 0.10809731 0.10255258 0.09808182 0.09973026 0.10027973 0.09943054\n",
      " 0.10402618 0.10300215 0.10327689 0.10097907 0.10085419 0.09963035\n",
      " 0.10027973 0.10784754 0.10837205 0.11341725 0.11109446 0.10152855\n",
      " 0.10237774 0.10609921 0.1098956  0.10967081 0.1065238  0.10447575\n",
      " 0.10712323 0.11841251 0.11519057 0.11688896 0.11973625 0.12135971\n",
      " 0.12732904 0.12338279 0.12078525 0.10804736 0.10949598 0.10592437\n",
      " 0.10819721 0.10759778 0.10077926 0.10492409]\n",
      "(1, 100, 1)\n",
      "0 day output [[0.10445209]]\n",
      "1 day input [0.0643139  0.06701134 0.05529747 0.05592187 0.06001798 0.06119187\n",
      " 0.05279984 0.05045207 0.04260952 0.0481043  0.05429842 0.05135122\n",
      " 0.04780459 0.04740497 0.05394875 0.04925321 0.05342425 0.05292472\n",
      " 0.05279984 0.04887857 0.04720516 0.04638094 0.04832909 0.04453269\n",
      " 0.05040212 0.05042709 0.0525251  0.05349918 0.0509516  0.05404865\n",
      " 0.06186623 0.05976822 0.06104201 0.06513812 0.06181627 0.06641191\n",
      " 0.07060792 0.06990859 0.06918427 0.06843499 0.07260602 0.07647735\n",
      " 0.07805085 0.07882512 0.08554373 0.09068885 0.0970578  0.09373595\n",
      " 0.09840651 0.09688296 0.09973026 0.10849693 0.10682352 0.10160348\n",
      " 0.09176283 0.10100405 0.09913083 0.1026275  0.10702333 0.10809731\n",
      " 0.10255258 0.09808182 0.09973026 0.10027973 0.09943054 0.10402618\n",
      " 0.10300215 0.10327689 0.10097907 0.10085419 0.09963035 0.10027973\n",
      " 0.10784754 0.10837205 0.11341725 0.11109446 0.10152855 0.10237774\n",
      " 0.10609921 0.1098956  0.10967081 0.1065238  0.10447575 0.10712323\n",
      " 0.11841251 0.11519057 0.11688896 0.11973625 0.12135971 0.12732904\n",
      " 0.12338279 0.12078525 0.10804736 0.10949598 0.10592437 0.10819721\n",
      " 0.10759778 0.10077926 0.10492409 0.10445209]\n",
      "(1, 100, 1)\n",
      "1 day output [[0.10454212]]\n",
      "2 day input [0.06701134 0.05529747 0.05592187 0.06001798 0.06119187 0.05279984\n",
      " 0.05045207 0.04260952 0.0481043  0.05429842 0.05135122 0.04780459\n",
      " 0.04740497 0.05394875 0.04925321 0.05342425 0.05292472 0.05279984\n",
      " 0.04887857 0.04720516 0.04638094 0.04832909 0.04453269 0.05040212\n",
      " 0.05042709 0.0525251  0.05349918 0.0509516  0.05404865 0.06186623\n",
      " 0.05976822 0.06104201 0.06513812 0.06181627 0.06641191 0.07060792\n",
      " 0.06990859 0.06918427 0.06843499 0.07260602 0.07647735 0.07805085\n",
      " 0.07882512 0.08554373 0.09068885 0.0970578  0.09373595 0.09840651\n",
      " 0.09688296 0.09973026 0.10849693 0.10682352 0.10160348 0.09176283\n",
      " 0.10100405 0.09913083 0.1026275  0.10702333 0.10809731 0.10255258\n",
      " 0.09808182 0.09973026 0.10027973 0.09943054 0.10402618 0.10300215\n",
      " 0.10327689 0.10097907 0.10085419 0.09963035 0.10027973 0.10784754\n",
      " 0.10837205 0.11341725 0.11109446 0.10152855 0.10237774 0.10609921\n",
      " 0.1098956  0.10967081 0.1065238  0.10447575 0.10712323 0.11841251\n",
      " 0.11519057 0.11688896 0.11973625 0.12135971 0.12732904 0.12338279\n",
      " 0.12078525 0.10804736 0.10949598 0.10592437 0.10819721 0.10759778\n",
      " 0.10077926 0.10492409 0.10445209 0.10454212]\n",
      "(1, 100, 1)\n",
      "2 day output [[0.10488971]]\n",
      "3 day input [0.05529747 0.05592187 0.06001798 0.06119187 0.05279984 0.05045207\n",
      " 0.04260952 0.0481043  0.05429842 0.05135122 0.04780459 0.04740497\n",
      " 0.05394875 0.04925321 0.05342425 0.05292472 0.05279984 0.04887857\n",
      " 0.04720516 0.04638094 0.04832909 0.04453269 0.05040212 0.05042709\n",
      " 0.0525251  0.05349918 0.0509516  0.05404865 0.06186623 0.05976822\n",
      " 0.06104201 0.06513812 0.06181627 0.06641191 0.07060792 0.06990859\n",
      " 0.06918427 0.06843499 0.07260602 0.07647735 0.07805085 0.07882512\n",
      " 0.08554373 0.09068885 0.0970578  0.09373595 0.09840651 0.09688296\n",
      " 0.09973026 0.10849693 0.10682352 0.10160348 0.09176283 0.10100405\n",
      " 0.09913083 0.1026275  0.10702333 0.10809731 0.10255258 0.09808182\n",
      " 0.09973026 0.10027973 0.09943054 0.10402618 0.10300215 0.10327689\n",
      " 0.10097907 0.10085419 0.09963035 0.10027973 0.10784754 0.10837205\n",
      " 0.11341725 0.11109446 0.10152855 0.10237774 0.10609921 0.1098956\n",
      " 0.10967081 0.1065238  0.10447575 0.10712323 0.11841251 0.11519057\n",
      " 0.11688896 0.11973625 0.12135971 0.12732904 0.12338279 0.12078525\n",
      " 0.10804736 0.10949598 0.10592437 0.10819721 0.10759778 0.10077926\n",
      " 0.10492409 0.10445209 0.10454212 0.10488971]\n",
      "(1, 100, 1)\n",
      "3 day output [[0.1053037]]\n",
      "4 day input [0.05592187 0.06001798 0.06119187 0.05279984 0.05045207 0.04260952\n",
      " 0.0481043  0.05429842 0.05135122 0.04780459 0.04740497 0.05394875\n",
      " 0.04925321 0.05342425 0.05292472 0.05279984 0.04887857 0.04720516\n",
      " 0.04638094 0.04832909 0.04453269 0.05040212 0.05042709 0.0525251\n",
      " 0.05349918 0.0509516  0.05404865 0.06186623 0.05976822 0.06104201\n",
      " 0.06513812 0.06181627 0.06641191 0.07060792 0.06990859 0.06918427\n",
      " 0.06843499 0.07260602 0.07647735 0.07805085 0.07882512 0.08554373\n",
      " 0.09068885 0.0970578  0.09373595 0.09840651 0.09688296 0.09973026\n",
      " 0.10849693 0.10682352 0.10160348 0.09176283 0.10100405 0.09913083\n",
      " 0.1026275  0.10702333 0.10809731 0.10255258 0.09808182 0.09973026\n",
      " 0.10027973 0.09943054 0.10402618 0.10300215 0.10327689 0.10097907\n",
      " 0.10085419 0.09963035 0.10027973 0.10784754 0.10837205 0.11341725\n",
      " 0.11109446 0.10152855 0.10237774 0.10609921 0.1098956  0.10967081\n",
      " 0.1065238  0.10447575 0.10712323 0.11841251 0.11519057 0.11688896\n",
      " 0.11973625 0.12135971 0.12732904 0.12338279 0.12078525 0.10804736\n",
      " 0.10949598 0.10592437 0.10819721 0.10759778 0.10077926 0.10492409\n",
      " 0.10445209 0.10454212 0.10488971 0.1053037 ]\n",
      "(1, 100, 1)\n",
      "4 day output [[0.10568648]]\n",
      "5 day input [0.06001798 0.06119187 0.05279984 0.05045207 0.04260952 0.0481043\n",
      " 0.05429842 0.05135122 0.04780459 0.04740497 0.05394875 0.04925321\n",
      " 0.05342425 0.05292472 0.05279984 0.04887857 0.04720516 0.04638094\n",
      " 0.04832909 0.04453269 0.05040212 0.05042709 0.0525251  0.05349918\n",
      " 0.0509516  0.05404865 0.06186623 0.05976822 0.06104201 0.06513812\n",
      " 0.06181627 0.06641191 0.07060792 0.06990859 0.06918427 0.06843499\n",
      " 0.07260602 0.07647735 0.07805085 0.07882512 0.08554373 0.09068885\n",
      " 0.0970578  0.09373595 0.09840651 0.09688296 0.09973026 0.10849693\n",
      " 0.10682352 0.10160348 0.09176283 0.10100405 0.09913083 0.1026275\n",
      " 0.10702333 0.10809731 0.10255258 0.09808182 0.09973026 0.10027973\n",
      " 0.09943054 0.10402618 0.10300215 0.10327689 0.10097907 0.10085419\n",
      " 0.09963035 0.10027973 0.10784754 0.10837205 0.11341725 0.11109446\n",
      " 0.10152855 0.10237774 0.10609921 0.1098956  0.10967081 0.1065238\n",
      " 0.10447575 0.10712323 0.11841251 0.11519057 0.11688896 0.11973625\n",
      " 0.12135971 0.12732904 0.12338279 0.12078525 0.10804736 0.10949598\n",
      " 0.10592437 0.10819721 0.10759778 0.10077926 0.10492409 0.10445209\n",
      " 0.10454212 0.10488971 0.1053037  0.10568648]\n",
      "(1, 100, 1)\n",
      "5 day output [[0.10599315]]\n",
      "6 day input [0.06119187 0.05279984 0.05045207 0.04260952 0.0481043  0.05429842\n",
      " 0.05135122 0.04780459 0.04740497 0.05394875 0.04925321 0.05342425\n",
      " 0.05292472 0.05279984 0.04887857 0.04720516 0.04638094 0.04832909\n",
      " 0.04453269 0.05040212 0.05042709 0.0525251  0.05349918 0.0509516\n",
      " 0.05404865 0.06186623 0.05976822 0.06104201 0.06513812 0.06181627\n",
      " 0.06641191 0.07060792 0.06990859 0.06918427 0.06843499 0.07260602\n",
      " 0.07647735 0.07805085 0.07882512 0.08554373 0.09068885 0.0970578\n",
      " 0.09373595 0.09840651 0.09688296 0.09973026 0.10849693 0.10682352\n",
      " 0.10160348 0.09176283 0.10100405 0.09913083 0.1026275  0.10702333\n",
      " 0.10809731 0.10255258 0.09808182 0.09973026 0.10027973 0.09943054\n",
      " 0.10402618 0.10300215 0.10327689 0.10097907 0.10085419 0.09963035\n",
      " 0.10027973 0.10784754 0.10837205 0.11341725 0.11109446 0.10152855\n",
      " 0.10237774 0.10609921 0.1098956  0.10967081 0.1065238  0.10447575\n",
      " 0.10712323 0.11841251 0.11519057 0.11688896 0.11973625 0.12135971\n",
      " 0.12732904 0.12338279 0.12078525 0.10804736 0.10949598 0.10592437\n",
      " 0.10819721 0.10759778 0.10077926 0.10492409 0.10445209 0.10454212\n",
      " 0.10488971 0.1053037  0.10568648 0.10599315]\n",
      "(1, 100, 1)\n",
      "6 day output [[0.106207]]\n",
      "7 day input [0.05279984 0.05045207 0.04260952 0.0481043  0.05429842 0.05135122\n",
      " 0.04780459 0.04740497 0.05394875 0.04925321 0.05342425 0.05292472\n",
      " 0.05279984 0.04887857 0.04720516 0.04638094 0.04832909 0.04453269\n",
      " 0.05040212 0.05042709 0.0525251  0.05349918 0.0509516  0.05404865\n",
      " 0.06186623 0.05976822 0.06104201 0.06513812 0.06181627 0.06641191\n",
      " 0.07060792 0.06990859 0.06918427 0.06843499 0.07260602 0.07647735\n",
      " 0.07805085 0.07882512 0.08554373 0.09068885 0.0970578  0.09373595\n",
      " 0.09840651 0.09688296 0.09973026 0.10849693 0.10682352 0.10160348\n",
      " 0.09176283 0.10100405 0.09913083 0.1026275  0.10702333 0.10809731\n",
      " 0.10255258 0.09808182 0.09973026 0.10027973 0.09943054 0.10402618\n",
      " 0.10300215 0.10327689 0.10097907 0.10085419 0.09963035 0.10027973\n",
      " 0.10784754 0.10837205 0.11341725 0.11109446 0.10152855 0.10237774\n",
      " 0.10609921 0.1098956  0.10967081 0.1065238  0.10447575 0.10712323\n",
      " 0.11841251 0.11519057 0.11688896 0.11973625 0.12135971 0.12732904\n",
      " 0.12338279 0.12078525 0.10804736 0.10949598 0.10592437 0.10819721\n",
      " 0.10759778 0.10077926 0.10492409 0.10445209 0.10454212 0.10488971\n",
      " 0.1053037  0.10568648 0.10599315 0.106207  ]\n",
      "(1, 100, 1)\n"
     ]
    },
    {
     "name": "stdout",
     "output_type": "stream",
     "text": [
      "7 day output [[0.10632801]]\n",
      "8 day input [0.05045207 0.04260952 0.0481043  0.05429842 0.05135122 0.04780459\n",
      " 0.04740497 0.05394875 0.04925321 0.05342425 0.05292472 0.05279984\n",
      " 0.04887857 0.04720516 0.04638094 0.04832909 0.04453269 0.05040212\n",
      " 0.05042709 0.0525251  0.05349918 0.0509516  0.05404865 0.06186623\n",
      " 0.05976822 0.06104201 0.06513812 0.06181627 0.06641191 0.07060792\n",
      " 0.06990859 0.06918427 0.06843499 0.07260602 0.07647735 0.07805085\n",
      " 0.07882512 0.08554373 0.09068885 0.0970578  0.09373595 0.09840651\n",
      " 0.09688296 0.09973026 0.10849693 0.10682352 0.10160348 0.09176283\n",
      " 0.10100405 0.09913083 0.1026275  0.10702333 0.10809731 0.10255258\n",
      " 0.09808182 0.09973026 0.10027973 0.09943054 0.10402618 0.10300215\n",
      " 0.10327689 0.10097907 0.10085419 0.09963035 0.10027973 0.10784754\n",
      " 0.10837205 0.11341725 0.11109446 0.10152855 0.10237774 0.10609921\n",
      " 0.1098956  0.10967081 0.1065238  0.10447575 0.10712323 0.11841251\n",
      " 0.11519057 0.11688896 0.11973625 0.12135971 0.12732904 0.12338279\n",
      " 0.12078525 0.10804736 0.10949598 0.10592437 0.10819721 0.10759778\n",
      " 0.10077926 0.10492409 0.10445209 0.10454212 0.10488971 0.1053037\n",
      " 0.10568648 0.10599315 0.106207   0.10632801]\n",
      "(1, 100, 1)\n",
      "8 day output [[0.10636703]]\n",
      "9 day input [0.04260952 0.0481043  0.05429842 0.05135122 0.04780459 0.04740497\n",
      " 0.05394875 0.04925321 0.05342425 0.05292472 0.05279984 0.04887857\n",
      " 0.04720516 0.04638094 0.04832909 0.04453269 0.05040212 0.05042709\n",
      " 0.0525251  0.05349918 0.0509516  0.05404865 0.06186623 0.05976822\n",
      " 0.06104201 0.06513812 0.06181627 0.06641191 0.07060792 0.06990859\n",
      " 0.06918427 0.06843499 0.07260602 0.07647735 0.07805085 0.07882512\n",
      " 0.08554373 0.09068885 0.0970578  0.09373595 0.09840651 0.09688296\n",
      " 0.09973026 0.10849693 0.10682352 0.10160348 0.09176283 0.10100405\n",
      " 0.09913083 0.1026275  0.10702333 0.10809731 0.10255258 0.09808182\n",
      " 0.09973026 0.10027973 0.09943054 0.10402618 0.10300215 0.10327689\n",
      " 0.10097907 0.10085419 0.09963035 0.10027973 0.10784754 0.10837205\n",
      " 0.11341725 0.11109446 0.10152855 0.10237774 0.10609921 0.1098956\n",
      " 0.10967081 0.1065238  0.10447575 0.10712323 0.11841251 0.11519057\n",
      " 0.11688896 0.11973625 0.12135971 0.12732904 0.12338279 0.12078525\n",
      " 0.10804736 0.10949598 0.10592437 0.10819721 0.10759778 0.10077926\n",
      " 0.10492409 0.10445209 0.10454212 0.10488971 0.1053037  0.10568648\n",
      " 0.10599315 0.106207   0.10632801 0.10636703]\n",
      "(1, 100, 1)\n",
      "9 day output [[0.10634152]]\n",
      "10 day input [0.0481043  0.05429842 0.05135122 0.04780459 0.04740497 0.05394875\n",
      " 0.04925321 0.05342425 0.05292472 0.05279984 0.04887857 0.04720516\n",
      " 0.04638094 0.04832909 0.04453269 0.05040212 0.05042709 0.0525251\n",
      " 0.05349918 0.0509516  0.05404865 0.06186623 0.05976822 0.06104201\n",
      " 0.06513812 0.06181627 0.06641191 0.07060792 0.06990859 0.06918427\n",
      " 0.06843499 0.07260602 0.07647735 0.07805085 0.07882512 0.08554373\n",
      " 0.09068885 0.0970578  0.09373595 0.09840651 0.09688296 0.09973026\n",
      " 0.10849693 0.10682352 0.10160348 0.09176283 0.10100405 0.09913083\n",
      " 0.1026275  0.10702333 0.10809731 0.10255258 0.09808182 0.09973026\n",
      " 0.10027973 0.09943054 0.10402618 0.10300215 0.10327689 0.10097907\n",
      " 0.10085419 0.09963035 0.10027973 0.10784754 0.10837205 0.11341725\n",
      " 0.11109446 0.10152855 0.10237774 0.10609921 0.1098956  0.10967081\n",
      " 0.1065238  0.10447575 0.10712323 0.11841251 0.11519057 0.11688896\n",
      " 0.11973625 0.12135971 0.12732904 0.12338279 0.12078525 0.10804736\n",
      " 0.10949598 0.10592437 0.10819721 0.10759778 0.10077926 0.10492409\n",
      " 0.10445209 0.10454212 0.10488971 0.1053037  0.10568648 0.10599315\n",
      " 0.106207   0.10632801 0.10636703 0.10634152]\n",
      "(1, 100, 1)\n",
      "10 day output [[0.10627188]]\n",
      "11 day input [0.05429842 0.05135122 0.04780459 0.04740497 0.05394875 0.04925321\n",
      " 0.05342425 0.05292472 0.05279984 0.04887857 0.04720516 0.04638094\n",
      " 0.04832909 0.04453269 0.05040212 0.05042709 0.0525251  0.05349918\n",
      " 0.0509516  0.05404865 0.06186623 0.05976822 0.06104201 0.06513812\n",
      " 0.06181627 0.06641191 0.07060792 0.06990859 0.06918427 0.06843499\n",
      " 0.07260602 0.07647735 0.07805085 0.07882512 0.08554373 0.09068885\n",
      " 0.0970578  0.09373595 0.09840651 0.09688296 0.09973026 0.10849693\n",
      " 0.10682352 0.10160348 0.09176283 0.10100405 0.09913083 0.1026275\n",
      " 0.10702333 0.10809731 0.10255258 0.09808182 0.09973026 0.10027973\n",
      " 0.09943054 0.10402618 0.10300215 0.10327689 0.10097907 0.10085419\n",
      " 0.09963035 0.10027973 0.10784754 0.10837205 0.11341725 0.11109446\n",
      " 0.10152855 0.10237774 0.10609921 0.1098956  0.10967081 0.1065238\n",
      " 0.10447575 0.10712323 0.11841251 0.11519057 0.11688896 0.11973625\n",
      " 0.12135971 0.12732904 0.12338279 0.12078525 0.10804736 0.10949598\n",
      " 0.10592437 0.10819721 0.10759778 0.10077926 0.10492409 0.10445209\n",
      " 0.10454212 0.10488971 0.1053037  0.10568648 0.10599315 0.106207\n",
      " 0.10632801 0.10636703 0.10634152 0.10627188]\n",
      "(1, 100, 1)\n",
      "11 day output [[0.10617857]]\n",
      "12 day input [0.05135122 0.04780459 0.04740497 0.05394875 0.04925321 0.05342425\n",
      " 0.05292472 0.05279984 0.04887857 0.04720516 0.04638094 0.04832909\n",
      " 0.04453269 0.05040212 0.05042709 0.0525251  0.05349918 0.0509516\n",
      " 0.05404865 0.06186623 0.05976822 0.06104201 0.06513812 0.06181627\n",
      " 0.06641191 0.07060792 0.06990859 0.06918427 0.06843499 0.07260602\n",
      " 0.07647735 0.07805085 0.07882512 0.08554373 0.09068885 0.0970578\n",
      " 0.09373595 0.09840651 0.09688296 0.09973026 0.10849693 0.10682352\n",
      " 0.10160348 0.09176283 0.10100405 0.09913083 0.1026275  0.10702333\n",
      " 0.10809731 0.10255258 0.09808182 0.09973026 0.10027973 0.09943054\n",
      " 0.10402618 0.10300215 0.10327689 0.10097907 0.10085419 0.09963035\n",
      " 0.10027973 0.10784754 0.10837205 0.11341725 0.11109446 0.10152855\n",
      " 0.10237774 0.10609921 0.1098956  0.10967081 0.1065238  0.10447575\n",
      " 0.10712323 0.11841251 0.11519057 0.11688896 0.11973625 0.12135971\n",
      " 0.12732904 0.12338279 0.12078525 0.10804736 0.10949598 0.10592437\n",
      " 0.10819721 0.10759778 0.10077926 0.10492409 0.10445209 0.10454212\n",
      " 0.10488971 0.1053037  0.10568648 0.10599315 0.106207   0.10632801\n",
      " 0.10636703 0.10634152 0.10627188 0.10617857]\n",
      "(1, 100, 1)\n",
      "12 day output [[0.10607954]]\n",
      "13 day input [0.04780459 0.04740497 0.05394875 0.04925321 0.05342425 0.05292472\n",
      " 0.05279984 0.04887857 0.04720516 0.04638094 0.04832909 0.04453269\n",
      " 0.05040212 0.05042709 0.0525251  0.05349918 0.0509516  0.05404865\n",
      " 0.06186623 0.05976822 0.06104201 0.06513812 0.06181627 0.06641191\n",
      " 0.07060792 0.06990859 0.06918427 0.06843499 0.07260602 0.07647735\n",
      " 0.07805085 0.07882512 0.08554373 0.09068885 0.0970578  0.09373595\n",
      " 0.09840651 0.09688296 0.09973026 0.10849693 0.10682352 0.10160348\n",
      " 0.09176283 0.10100405 0.09913083 0.1026275  0.10702333 0.10809731\n",
      " 0.10255258 0.09808182 0.09973026 0.10027973 0.09943054 0.10402618\n",
      " 0.10300215 0.10327689 0.10097907 0.10085419 0.09963035 0.10027973\n",
      " 0.10784754 0.10837205 0.11341725 0.11109446 0.10152855 0.10237774\n",
      " 0.10609921 0.1098956  0.10967081 0.1065238  0.10447575 0.10712323\n",
      " 0.11841251 0.11519057 0.11688896 0.11973625 0.12135971 0.12732904\n",
      " 0.12338279 0.12078525 0.10804736 0.10949598 0.10592437 0.10819721\n",
      " 0.10759778 0.10077926 0.10492409 0.10445209 0.10454212 0.10488971\n",
      " 0.1053037  0.10568648 0.10599315 0.106207   0.10632801 0.10636703\n",
      " 0.10634152 0.10627188 0.10617857 0.10607954]\n",
      "(1, 100, 1)\n",
      "13 day output [[0.10598915]]\n",
      "14 day input [0.04740497 0.05394875 0.04925321 0.05342425 0.05292472 0.05279984\n",
      " 0.04887857 0.04720516 0.04638094 0.04832909 0.04453269 0.05040212\n",
      " 0.05042709 0.0525251  0.05349918 0.0509516  0.05404865 0.06186623\n",
      " 0.05976822 0.06104201 0.06513812 0.06181627 0.06641191 0.07060792\n",
      " 0.06990859 0.06918427 0.06843499 0.07260602 0.07647735 0.07805085\n",
      " 0.07882512 0.08554373 0.09068885 0.0970578  0.09373595 0.09840651\n",
      " 0.09688296 0.09973026 0.10849693 0.10682352 0.10160348 0.09176283\n",
      " 0.10100405 0.09913083 0.1026275  0.10702333 0.10809731 0.10255258\n",
      " 0.09808182 0.09973026 0.10027973 0.09943054 0.10402618 0.10300215\n",
      " 0.10327689 0.10097907 0.10085419 0.09963035 0.10027973 0.10784754\n",
      " 0.10837205 0.11341725 0.11109446 0.10152855 0.10237774 0.10609921\n",
      " 0.1098956  0.10967081 0.1065238  0.10447575 0.10712323 0.11841251\n",
      " 0.11519057 0.11688896 0.11973625 0.12135971 0.12732904 0.12338279\n",
      " 0.12078525 0.10804736 0.10949598 0.10592437 0.10819721 0.10759778\n",
      " 0.10077926 0.10492409 0.10445209 0.10454212 0.10488971 0.1053037\n",
      " 0.10568648 0.10599315 0.106207   0.10632801 0.10636703 0.10634152\n",
      " 0.10627188 0.10617857 0.10607954 0.10598915]\n",
      "(1, 100, 1)\n",
      "14 day output [[0.10591716]]\n",
      "15 day input [0.05394875 0.04925321 0.05342425 0.05292472 0.05279984 0.04887857\n",
      " 0.04720516 0.04638094 0.04832909 0.04453269 0.05040212 0.05042709\n",
      " 0.0525251  0.05349918 0.0509516  0.05404865 0.06186623 0.05976822\n",
      " 0.06104201 0.06513812 0.06181627 0.06641191 0.07060792 0.06990859\n",
      " 0.06918427 0.06843499 0.07260602 0.07647735 0.07805085 0.07882512\n",
      " 0.08554373 0.09068885 0.0970578  0.09373595 0.09840651 0.09688296\n",
      " 0.09973026 0.10849693 0.10682352 0.10160348 0.09176283 0.10100405\n",
      " 0.09913083 0.1026275  0.10702333 0.10809731 0.10255258 0.09808182\n",
      " 0.09973026 0.10027973 0.09943054 0.10402618 0.10300215 0.10327689\n",
      " 0.10097907 0.10085419 0.09963035 0.10027973 0.10784754 0.10837205\n",
      " 0.11341725 0.11109446 0.10152855 0.10237774 0.10609921 0.1098956\n",
      " 0.10967081 0.1065238  0.10447575 0.10712323 0.11841251 0.11519057\n",
      " 0.11688896 0.11973625 0.12135971 0.12732904 0.12338279 0.12078525\n",
      " 0.10804736 0.10949598 0.10592437 0.10819721 0.10759778 0.10077926\n",
      " 0.10492409 0.10445209 0.10454212 0.10488971 0.1053037  0.10568648\n",
      " 0.10599315 0.106207   0.10632801 0.10636703 0.10634152 0.10627188\n",
      " 0.10617857 0.10607954 0.10598915 0.10591716]\n",
      "(1, 100, 1)\n"
     ]
    },
    {
     "name": "stdout",
     "output_type": "stream",
     "text": [
      "15 day output [[0.105869]]\n",
      "16 day input [0.04925321 0.05342425 0.05292472 0.05279984 0.04887857 0.04720516\n",
      " 0.04638094 0.04832909 0.04453269 0.05040212 0.05042709 0.0525251\n",
      " 0.05349918 0.0509516  0.05404865 0.06186623 0.05976822 0.06104201\n",
      " 0.06513812 0.06181627 0.06641191 0.07060792 0.06990859 0.06918427\n",
      " 0.06843499 0.07260602 0.07647735 0.07805085 0.07882512 0.08554373\n",
      " 0.09068885 0.0970578  0.09373595 0.09840651 0.09688296 0.09973026\n",
      " 0.10849693 0.10682352 0.10160348 0.09176283 0.10100405 0.09913083\n",
      " 0.1026275  0.10702333 0.10809731 0.10255258 0.09808182 0.09973026\n",
      " 0.10027973 0.09943054 0.10402618 0.10300215 0.10327689 0.10097907\n",
      " 0.10085419 0.09963035 0.10027973 0.10784754 0.10837205 0.11341725\n",
      " 0.11109446 0.10152855 0.10237774 0.10609921 0.1098956  0.10967081\n",
      " 0.1065238  0.10447575 0.10712323 0.11841251 0.11519057 0.11688896\n",
      " 0.11973625 0.12135971 0.12732904 0.12338279 0.12078525 0.10804736\n",
      " 0.10949598 0.10592437 0.10819721 0.10759778 0.10077926 0.10492409\n",
      " 0.10445209 0.10454212 0.10488971 0.1053037  0.10568648 0.10599315\n",
      " 0.106207   0.10632801 0.10636703 0.10634152 0.10627188 0.10617857\n",
      " 0.10607954 0.10598915 0.10591716 0.105869  ]\n",
      "(1, 100, 1)\n",
      "16 day output [[0.10584636]]\n",
      "17 day input [0.05342425 0.05292472 0.05279984 0.04887857 0.04720516 0.04638094\n",
      " 0.04832909 0.04453269 0.05040212 0.05042709 0.0525251  0.05349918\n",
      " 0.0509516  0.05404865 0.06186623 0.05976822 0.06104201 0.06513812\n",
      " 0.06181627 0.06641191 0.07060792 0.06990859 0.06918427 0.06843499\n",
      " 0.07260602 0.07647735 0.07805085 0.07882512 0.08554373 0.09068885\n",
      " 0.0970578  0.09373595 0.09840651 0.09688296 0.09973026 0.10849693\n",
      " 0.10682352 0.10160348 0.09176283 0.10100405 0.09913083 0.1026275\n",
      " 0.10702333 0.10809731 0.10255258 0.09808182 0.09973026 0.10027973\n",
      " 0.09943054 0.10402618 0.10300215 0.10327689 0.10097907 0.10085419\n",
      " 0.09963035 0.10027973 0.10784754 0.10837205 0.11341725 0.11109446\n",
      " 0.10152855 0.10237774 0.10609921 0.1098956  0.10967081 0.1065238\n",
      " 0.10447575 0.10712323 0.11841251 0.11519057 0.11688896 0.11973625\n",
      " 0.12135971 0.12732904 0.12338279 0.12078525 0.10804736 0.10949598\n",
      " 0.10592437 0.10819721 0.10759778 0.10077926 0.10492409 0.10445209\n",
      " 0.10454212 0.10488971 0.1053037  0.10568648 0.10599315 0.106207\n",
      " 0.10632801 0.10636703 0.10634152 0.10627188 0.10617857 0.10607954\n",
      " 0.10598915 0.10591716 0.105869   0.10584636]\n",
      "(1, 100, 1)\n",
      "17 day output [[0.10584769]]\n",
      "18 day input [0.05292472 0.05279984 0.04887857 0.04720516 0.04638094 0.04832909\n",
      " 0.04453269 0.05040212 0.05042709 0.0525251  0.05349918 0.0509516\n",
      " 0.05404865 0.06186623 0.05976822 0.06104201 0.06513812 0.06181627\n",
      " 0.06641191 0.07060792 0.06990859 0.06918427 0.06843499 0.07260602\n",
      " 0.07647735 0.07805085 0.07882512 0.08554373 0.09068885 0.0970578\n",
      " 0.09373595 0.09840651 0.09688296 0.09973026 0.10849693 0.10682352\n",
      " 0.10160348 0.09176283 0.10100405 0.09913083 0.1026275  0.10702333\n",
      " 0.10809731 0.10255258 0.09808182 0.09973026 0.10027973 0.09943054\n",
      " 0.10402618 0.10300215 0.10327689 0.10097907 0.10085419 0.09963035\n",
      " 0.10027973 0.10784754 0.10837205 0.11341725 0.11109446 0.10152855\n",
      " 0.10237774 0.10609921 0.1098956  0.10967081 0.1065238  0.10447575\n",
      " 0.10712323 0.11841251 0.11519057 0.11688896 0.11973625 0.12135971\n",
      " 0.12732904 0.12338279 0.12078525 0.10804736 0.10949598 0.10592437\n",
      " 0.10819721 0.10759778 0.10077926 0.10492409 0.10445209 0.10454212\n",
      " 0.10488971 0.1053037  0.10568648 0.10599315 0.106207   0.10632801\n",
      " 0.10636703 0.10634152 0.10627188 0.10617857 0.10607954 0.10598915\n",
      " 0.10591716 0.105869   0.10584636 0.10584769]\n",
      "(1, 100, 1)\n",
      "18 day output [[0.10586941]]\n",
      "19 day input [0.05279984 0.04887857 0.04720516 0.04638094 0.04832909 0.04453269\n",
      " 0.05040212 0.05042709 0.0525251  0.05349918 0.0509516  0.05404865\n",
      " 0.06186623 0.05976822 0.06104201 0.06513812 0.06181627 0.06641191\n",
      " 0.07060792 0.06990859 0.06918427 0.06843499 0.07260602 0.07647735\n",
      " 0.07805085 0.07882512 0.08554373 0.09068885 0.0970578  0.09373595\n",
      " 0.09840651 0.09688296 0.09973026 0.10849693 0.10682352 0.10160348\n",
      " 0.09176283 0.10100405 0.09913083 0.1026275  0.10702333 0.10809731\n",
      " 0.10255258 0.09808182 0.09973026 0.10027973 0.09943054 0.10402618\n",
      " 0.10300215 0.10327689 0.10097907 0.10085419 0.09963035 0.10027973\n",
      " 0.10784754 0.10837205 0.11341725 0.11109446 0.10152855 0.10237774\n",
      " 0.10609921 0.1098956  0.10967081 0.1065238  0.10447575 0.10712323\n",
      " 0.11841251 0.11519057 0.11688896 0.11973625 0.12135971 0.12732904\n",
      " 0.12338279 0.12078525 0.10804736 0.10949598 0.10592437 0.10819721\n",
      " 0.10759778 0.10077926 0.10492409 0.10445209 0.10454212 0.10488971\n",
      " 0.1053037  0.10568648 0.10599315 0.106207   0.10632801 0.10636703\n",
      " 0.10634152 0.10627188 0.10617857 0.10607954 0.10598915 0.10591716\n",
      " 0.105869   0.10584636 0.10584769 0.10586941]\n",
      "(1, 100, 1)\n",
      "19 day output [[0.10590663]]\n",
      "20 day input [0.04887857 0.04720516 0.04638094 0.04832909 0.04453269 0.05040212\n",
      " 0.05042709 0.0525251  0.05349918 0.0509516  0.05404865 0.06186623\n",
      " 0.05976822 0.06104201 0.06513812 0.06181627 0.06641191 0.07060792\n",
      " 0.06990859 0.06918427 0.06843499 0.07260602 0.07647735 0.07805085\n",
      " 0.07882512 0.08554373 0.09068885 0.0970578  0.09373595 0.09840651\n",
      " 0.09688296 0.09973026 0.10849693 0.10682352 0.10160348 0.09176283\n",
      " 0.10100405 0.09913083 0.1026275  0.10702333 0.10809731 0.10255258\n",
      " 0.09808182 0.09973026 0.10027973 0.09943054 0.10402618 0.10300215\n",
      " 0.10327689 0.10097907 0.10085419 0.09963035 0.10027973 0.10784754\n",
      " 0.10837205 0.11341725 0.11109446 0.10152855 0.10237774 0.10609921\n",
      " 0.1098956  0.10967081 0.1065238  0.10447575 0.10712323 0.11841251\n",
      " 0.11519057 0.11688896 0.11973625 0.12135971 0.12732904 0.12338279\n",
      " 0.12078525 0.10804736 0.10949598 0.10592437 0.10819721 0.10759778\n",
      " 0.10077926 0.10492409 0.10445209 0.10454212 0.10488971 0.1053037\n",
      " 0.10568648 0.10599315 0.106207   0.10632801 0.10636703 0.10634152\n",
      " 0.10627188 0.10617857 0.10607954 0.10598915 0.10591716 0.105869\n",
      " 0.10584636 0.10584769 0.10586941 0.10590663]\n",
      "(1, 100, 1)\n",
      "20 day output [[0.10595416]]\n",
      "21 day input [0.04720516 0.04638094 0.04832909 0.04453269 0.05040212 0.05042709\n",
      " 0.0525251  0.05349918 0.0509516  0.05404865 0.06186623 0.05976822\n",
      " 0.06104201 0.06513812 0.06181627 0.06641191 0.07060792 0.06990859\n",
      " 0.06918427 0.06843499 0.07260602 0.07647735 0.07805085 0.07882512\n",
      " 0.08554373 0.09068885 0.0970578  0.09373595 0.09840651 0.09688296\n",
      " 0.09973026 0.10849693 0.10682352 0.10160348 0.09176283 0.10100405\n",
      " 0.09913083 0.1026275  0.10702333 0.10809731 0.10255258 0.09808182\n",
      " 0.09973026 0.10027973 0.09943054 0.10402618 0.10300215 0.10327689\n",
      " 0.10097907 0.10085419 0.09963035 0.10027973 0.10784754 0.10837205\n",
      " 0.11341725 0.11109446 0.10152855 0.10237774 0.10609921 0.1098956\n",
      " 0.10967081 0.1065238  0.10447575 0.10712323 0.11841251 0.11519057\n",
      " 0.11688896 0.11973625 0.12135971 0.12732904 0.12338279 0.12078525\n",
      " 0.10804736 0.10949598 0.10592437 0.10819721 0.10759778 0.10077926\n",
      " 0.10492409 0.10445209 0.10454212 0.10488971 0.1053037  0.10568648\n",
      " 0.10599315 0.106207   0.10632801 0.10636703 0.10634152 0.10627188\n",
      " 0.10617857 0.10607954 0.10598915 0.10591716 0.105869   0.10584636\n",
      " 0.10584769 0.10586941 0.10590663 0.10595416]\n",
      "(1, 100, 1)\n",
      "21 day output [[0.10600687]]\n",
      "22 day input [0.04638094 0.04832909 0.04453269 0.05040212 0.05042709 0.0525251\n",
      " 0.05349918 0.0509516  0.05404865 0.06186623 0.05976822 0.06104201\n",
      " 0.06513812 0.06181627 0.06641191 0.07060792 0.06990859 0.06918427\n",
      " 0.06843499 0.07260602 0.07647735 0.07805085 0.07882512 0.08554373\n",
      " 0.09068885 0.0970578  0.09373595 0.09840651 0.09688296 0.09973026\n",
      " 0.10849693 0.10682352 0.10160348 0.09176283 0.10100405 0.09913083\n",
      " 0.1026275  0.10702333 0.10809731 0.10255258 0.09808182 0.09973026\n",
      " 0.10027973 0.09943054 0.10402618 0.10300215 0.10327689 0.10097907\n",
      " 0.10085419 0.09963035 0.10027973 0.10784754 0.10837205 0.11341725\n",
      " 0.11109446 0.10152855 0.10237774 0.10609921 0.1098956  0.10967081\n",
      " 0.1065238  0.10447575 0.10712323 0.11841251 0.11519057 0.11688896\n",
      " 0.11973625 0.12135971 0.12732904 0.12338279 0.12078525 0.10804736\n",
      " 0.10949598 0.10592437 0.10819721 0.10759778 0.10077926 0.10492409\n",
      " 0.10445209 0.10454212 0.10488971 0.1053037  0.10568648 0.10599315\n",
      " 0.106207   0.10632801 0.10636703 0.10634152 0.10627188 0.10617857\n",
      " 0.10607954 0.10598915 0.10591716 0.105869   0.10584636 0.10584769\n",
      " 0.10586941 0.10590663 0.10595416 0.10600687]\n",
      "(1, 100, 1)\n",
      "22 day output [[0.10606042]]\n",
      "23 day input [0.04832909 0.04453269 0.05040212 0.05042709 0.0525251  0.05349918\n",
      " 0.0509516  0.05404865 0.06186623 0.05976822 0.06104201 0.06513812\n",
      " 0.06181627 0.06641191 0.07060792 0.06990859 0.06918427 0.06843499\n",
      " 0.07260602 0.07647735 0.07805085 0.07882512 0.08554373 0.09068885\n",
      " 0.0970578  0.09373595 0.09840651 0.09688296 0.09973026 0.10849693\n",
      " 0.10682352 0.10160348 0.09176283 0.10100405 0.09913083 0.1026275\n",
      " 0.10702333 0.10809731 0.10255258 0.09808182 0.09973026 0.10027973\n",
      " 0.09943054 0.10402618 0.10300215 0.10327689 0.10097907 0.10085419\n",
      " 0.09963035 0.10027973 0.10784754 0.10837205 0.11341725 0.11109446\n",
      " 0.10152855 0.10237774 0.10609921 0.1098956  0.10967081 0.1065238\n",
      " 0.10447575 0.10712323 0.11841251 0.11519057 0.11688896 0.11973625\n",
      " 0.12135971 0.12732904 0.12338279 0.12078525 0.10804736 0.10949598\n",
      " 0.10592437 0.10819721 0.10759778 0.10077926 0.10492409 0.10445209\n",
      " 0.10454212 0.10488971 0.1053037  0.10568648 0.10599315 0.106207\n",
      " 0.10632801 0.10636703 0.10634152 0.10627188 0.10617857 0.10607954\n",
      " 0.10598915 0.10591716 0.105869   0.10584636 0.10584769 0.10586941\n",
      " 0.10590663 0.10595416 0.10600687 0.10606042]\n",
      "(1, 100, 1)\n"
     ]
    },
    {
     "name": "stdout",
     "output_type": "stream",
     "text": [
      "23 day output [[0.1061114]]\n",
      "24 day input [0.04453269 0.05040212 0.05042709 0.0525251  0.05349918 0.0509516\n",
      " 0.05404865 0.06186623 0.05976822 0.06104201 0.06513812 0.06181627\n",
      " 0.06641191 0.07060792 0.06990859 0.06918427 0.06843499 0.07260602\n",
      " 0.07647735 0.07805085 0.07882512 0.08554373 0.09068885 0.0970578\n",
      " 0.09373595 0.09840651 0.09688296 0.09973026 0.10849693 0.10682352\n",
      " 0.10160348 0.09176283 0.10100405 0.09913083 0.1026275  0.10702333\n",
      " 0.10809731 0.10255258 0.09808182 0.09973026 0.10027973 0.09943054\n",
      " 0.10402618 0.10300215 0.10327689 0.10097907 0.10085419 0.09963035\n",
      " 0.10027973 0.10784754 0.10837205 0.11341725 0.11109446 0.10152855\n",
      " 0.10237774 0.10609921 0.1098956  0.10967081 0.1065238  0.10447575\n",
      " 0.10712323 0.11841251 0.11519057 0.11688896 0.11973625 0.12135971\n",
      " 0.12732904 0.12338279 0.12078525 0.10804736 0.10949598 0.10592437\n",
      " 0.10819721 0.10759778 0.10077926 0.10492409 0.10445209 0.10454212\n",
      " 0.10488971 0.1053037  0.10568648 0.10599315 0.106207   0.10632801\n",
      " 0.10636703 0.10634152 0.10627188 0.10617857 0.10607954 0.10598915\n",
      " 0.10591716 0.105869   0.10584636 0.10584769 0.10586941 0.10590663\n",
      " 0.10595416 0.10600687 0.10606042 0.1061114 ]\n",
      "(1, 100, 1)\n",
      "24 day output [[0.10615738]]\n",
      "25 day input [0.05040212 0.05042709 0.0525251  0.05349918 0.0509516  0.05404865\n",
      " 0.06186623 0.05976822 0.06104201 0.06513812 0.06181627 0.06641191\n",
      " 0.07060792 0.06990859 0.06918427 0.06843499 0.07260602 0.07647735\n",
      " 0.07805085 0.07882512 0.08554373 0.09068885 0.0970578  0.09373595\n",
      " 0.09840651 0.09688296 0.09973026 0.10849693 0.10682352 0.10160348\n",
      " 0.09176283 0.10100405 0.09913083 0.1026275  0.10702333 0.10809731\n",
      " 0.10255258 0.09808182 0.09973026 0.10027973 0.09943054 0.10402618\n",
      " 0.10300215 0.10327689 0.10097907 0.10085419 0.09963035 0.10027973\n",
      " 0.10784754 0.10837205 0.11341725 0.11109446 0.10152855 0.10237774\n",
      " 0.10609921 0.1098956  0.10967081 0.1065238  0.10447575 0.10712323\n",
      " 0.11841251 0.11519057 0.11688896 0.11973625 0.12135971 0.12732904\n",
      " 0.12338279 0.12078525 0.10804736 0.10949598 0.10592437 0.10819721\n",
      " 0.10759778 0.10077926 0.10492409 0.10445209 0.10454212 0.10488971\n",
      " 0.1053037  0.10568648 0.10599315 0.106207   0.10632801 0.10636703\n",
      " 0.10634152 0.10627188 0.10617857 0.10607954 0.10598915 0.10591716\n",
      " 0.105869   0.10584636 0.10584769 0.10586941 0.10590663 0.10595416\n",
      " 0.10600687 0.10606042 0.1061114  0.10615738]\n",
      "(1, 100, 1)\n",
      "25 day output [[0.10619705]]\n",
      "26 day input [0.05042709 0.0525251  0.05349918 0.0509516  0.05404865 0.06186623\n",
      " 0.05976822 0.06104201 0.06513812 0.06181627 0.06641191 0.07060792\n",
      " 0.06990859 0.06918427 0.06843499 0.07260602 0.07647735 0.07805085\n",
      " 0.07882512 0.08554373 0.09068885 0.0970578  0.09373595 0.09840651\n",
      " 0.09688296 0.09973026 0.10849693 0.10682352 0.10160348 0.09176283\n",
      " 0.10100405 0.09913083 0.1026275  0.10702333 0.10809731 0.10255258\n",
      " 0.09808182 0.09973026 0.10027973 0.09943054 0.10402618 0.10300215\n",
      " 0.10327689 0.10097907 0.10085419 0.09963035 0.10027973 0.10784754\n",
      " 0.10837205 0.11341725 0.11109446 0.10152855 0.10237774 0.10609921\n",
      " 0.1098956  0.10967081 0.1065238  0.10447575 0.10712323 0.11841251\n",
      " 0.11519057 0.11688896 0.11973625 0.12135971 0.12732904 0.12338279\n",
      " 0.12078525 0.10804736 0.10949598 0.10592437 0.10819721 0.10759778\n",
      " 0.10077926 0.10492409 0.10445209 0.10454212 0.10488971 0.1053037\n",
      " 0.10568648 0.10599315 0.106207   0.10632801 0.10636703 0.10634152\n",
      " 0.10627188 0.10617857 0.10607954 0.10598915 0.10591716 0.105869\n",
      " 0.10584636 0.10584769 0.10586941 0.10590663 0.10595416 0.10600687\n",
      " 0.10606042 0.1061114  0.10615738 0.10619705]\n",
      "(1, 100, 1)\n",
      "26 day output [[0.10622987]]\n",
      "27 day input [0.0525251  0.05349918 0.0509516  0.05404865 0.06186623 0.05976822\n",
      " 0.06104201 0.06513812 0.06181627 0.06641191 0.07060792 0.06990859\n",
      " 0.06918427 0.06843499 0.07260602 0.07647735 0.07805085 0.07882512\n",
      " 0.08554373 0.09068885 0.0970578  0.09373595 0.09840651 0.09688296\n",
      " 0.09973026 0.10849693 0.10682352 0.10160348 0.09176283 0.10100405\n",
      " 0.09913083 0.1026275  0.10702333 0.10809731 0.10255258 0.09808182\n",
      " 0.09973026 0.10027973 0.09943054 0.10402618 0.10300215 0.10327689\n",
      " 0.10097907 0.10085419 0.09963035 0.10027973 0.10784754 0.10837205\n",
      " 0.11341725 0.11109446 0.10152855 0.10237774 0.10609921 0.1098956\n",
      " 0.10967081 0.1065238  0.10447575 0.10712323 0.11841251 0.11519057\n",
      " 0.11688896 0.11973625 0.12135971 0.12732904 0.12338279 0.12078525\n",
      " 0.10804736 0.10949598 0.10592437 0.10819721 0.10759778 0.10077926\n",
      " 0.10492409 0.10445209 0.10454212 0.10488971 0.1053037  0.10568648\n",
      " 0.10599315 0.106207   0.10632801 0.10636703 0.10634152 0.10627188\n",
      " 0.10617857 0.10607954 0.10598915 0.10591716 0.105869   0.10584636\n",
      " 0.10584769 0.10586941 0.10590663 0.10595416 0.10600687 0.10606042\n",
      " 0.1061114  0.10615738 0.10619705 0.10622987]\n",
      "(1, 100, 1)\n",
      "27 day output [[0.10625608]]\n",
      "28 day input [0.05349918 0.0509516  0.05404865 0.06186623 0.05976822 0.06104201\n",
      " 0.06513812 0.06181627 0.06641191 0.07060792 0.06990859 0.06918427\n",
      " 0.06843499 0.07260602 0.07647735 0.07805085 0.07882512 0.08554373\n",
      " 0.09068885 0.0970578  0.09373595 0.09840651 0.09688296 0.09973026\n",
      " 0.10849693 0.10682352 0.10160348 0.09176283 0.10100405 0.09913083\n",
      " 0.1026275  0.10702333 0.10809731 0.10255258 0.09808182 0.09973026\n",
      " 0.10027973 0.09943054 0.10402618 0.10300215 0.10327689 0.10097907\n",
      " 0.10085419 0.09963035 0.10027973 0.10784754 0.10837205 0.11341725\n",
      " 0.11109446 0.10152855 0.10237774 0.10609921 0.1098956  0.10967081\n",
      " 0.1065238  0.10447575 0.10712323 0.11841251 0.11519057 0.11688896\n",
      " 0.11973625 0.12135971 0.12732904 0.12338279 0.12078525 0.10804736\n",
      " 0.10949598 0.10592437 0.10819721 0.10759778 0.10077926 0.10492409\n",
      " 0.10445209 0.10454212 0.10488971 0.1053037  0.10568648 0.10599315\n",
      " 0.106207   0.10632801 0.10636703 0.10634152 0.10627188 0.10617857\n",
      " 0.10607954 0.10598915 0.10591716 0.105869   0.10584636 0.10584769\n",
      " 0.10586941 0.10590663 0.10595416 0.10600687 0.10606042 0.1061114\n",
      " 0.10615738 0.10619705 0.10622987 0.10625608]\n",
      "(1, 100, 1)\n",
      "28 day output [[0.10627638]]\n",
      "29 day input [0.0509516  0.05404865 0.06186623 0.05976822 0.06104201 0.06513812\n",
      " 0.06181627 0.06641191 0.07060792 0.06990859 0.06918427 0.06843499\n",
      " 0.07260602 0.07647735 0.07805085 0.07882512 0.08554373 0.09068885\n",
      " 0.0970578  0.09373595 0.09840651 0.09688296 0.09973026 0.10849693\n",
      " 0.10682352 0.10160348 0.09176283 0.10100405 0.09913083 0.1026275\n",
      " 0.10702333 0.10809731 0.10255258 0.09808182 0.09973026 0.10027973\n",
      " 0.09943054 0.10402618 0.10300215 0.10327689 0.10097907 0.10085419\n",
      " 0.09963035 0.10027973 0.10784754 0.10837205 0.11341725 0.11109446\n",
      " 0.10152855 0.10237774 0.10609921 0.1098956  0.10967081 0.1065238\n",
      " 0.10447575 0.10712323 0.11841251 0.11519057 0.11688896 0.11973625\n",
      " 0.12135971 0.12732904 0.12338279 0.12078525 0.10804736 0.10949598\n",
      " 0.10592437 0.10819721 0.10759778 0.10077926 0.10492409 0.10445209\n",
      " 0.10454212 0.10488971 0.1053037  0.10568648 0.10599315 0.106207\n",
      " 0.10632801 0.10636703 0.10634152 0.10627188 0.10617857 0.10607954\n",
      " 0.10598915 0.10591716 0.105869   0.10584636 0.10584769 0.10586941\n",
      " 0.10590663 0.10595416 0.10600687 0.10606042 0.1061114  0.10615738\n",
      " 0.10619705 0.10622987 0.10625608 0.10627638]\n",
      "(1, 100, 1)\n",
      "29 day output [[0.10629179]]\n",
      "[0.10445208847522736, 0.10454212129116058, 0.10488971322774887, 0.10530369728803635, 0.1056864783167839, 0.10599315166473389, 0.1062069982290268, 0.10632801055908203, 0.10636702924966812, 0.10634151846170425, 0.10627187788486481, 0.10617856681346893, 0.10607954114675522, 0.10598915070295334, 0.10591715574264526, 0.10586899518966675, 0.1058463603258133, 0.10584769397974014, 0.10586941242218018, 0.10590662807226181, 0.10595416277647018, 0.10600686818361282, 0.10606041550636292, 0.10611139982938766, 0.10615738481283188, 0.1061970517039299, 0.10622987151145935, 0.10625608265399933, 0.10627637803554535, 0.10629179328680038]\n"
     ]
    }
   ],
   "source": [
    "lst_output = []\n",
    "i = 0 \n",
    "n_steps = 100\n",
    "while i<30: \n",
    "    #checking the len(in_put)\n",
    "    if len(in_put)>100: \n",
    "        # it means that we insert a new element into the array and we didn't shift on element \n",
    "        x_input = np.array(in_put[1:])\n",
    "        print(f\"{i+1} day input {x_input}\")\n",
    "        #reshaping the input to give them to the model\n",
    "        x_input = x_input.reshape(1,-1)\n",
    "        x_input = x_input.reshape(1,n_steps,1)\n",
    "        print(x_input.shape)\n",
    "        y_hat = model.predict(x_input,verbose=0)\n",
    "        print(f\"{i+1} day output {y_hat}\")\n",
    "        in_put.extend(y_hat[0].tolist())\n",
    "        in_put = in_put[1:]\n",
    "        \n",
    "        lst_output.extend(y_hat[0].tolist())\n",
    "        i +=1\n",
    "        \n",
    "    else: \n",
    "        x_input = np.array(in_put).reshape(1,n_steps,1)\n",
    "        y_hat  = model.predict(x_input,verbose=0)\n",
    "        print(y_hat[0])\n",
    "        in_put.extend(y_hat[0].tolist())\n",
    "        lst_output.extend(y_hat[0].tolist())\n",
    "        i+=1\n",
    "        \n",
    "print(lst_output)"
   ]
  },
  {
   "cell_type": "markdown",
   "id": "ff522418",
   "metadata": {},
   "source": [
    "We are going now to plot the graph with the predicted values "
   ]
  },
  {
   "cell_type": "code",
   "execution_count": 110,
   "id": "0cd004f3",
   "metadata": {},
   "outputs": [],
   "source": []
  },
  {
   "cell_type": "code",
   "execution_count": 117,
   "id": "73024abe",
   "metadata": {},
   "outputs": [
    {
     "data": {
      "text/plain": [
       "[<matplotlib.lines.Line2D at 0x19136442820>]"
      ]
     },
     "execution_count": 117,
     "metadata": {},
     "output_type": "execute_result"
    },
    {
     "data": {
      "image/png": "[encoded data removed]",
      "text/plain": [
       "<Figure size 432x288 with 1 Axes>"
      ]
     },
     "metadata": {
      "needs_background": "light"
     },
     "output_type": "display_data"
    }
   ],
   "source": [
    "plt.plot(np.arange(1,101) ,scaler.inverse_transform(data[1159:]))\n",
    "plt.plot(np.arange(101,131), scaler.inverse_transform(np.array(lst_output).reshape(-1, 1)))"
   ]
  },
  {
   "cell_type": "markdown",
   "id": "c9919a8e",
   "metadata": {},
   "source": [
    "This was one of my many notebooks for learning about deep learning and it's diffrent model, you can fined another implementation of LSTMs using *PyTorch*.."
   ]
  },
  {
   "cell_type": "code",
   "execution_count": null,
   "id": "b1fc7752",
   "metadata": {},
   "outputs": [],
   "source": []
  }
 ],
 "metadata": {
  "kernelspec": {
   "display_name": "Python 3 (ipykernel)",
   "language": "python",
   "name": "python3"
  },
  "language_info": {
   "codemirror_mode": {
    "name": "ipython",
    "version": 3
   },
   "file_extension": ".py",
   "mimetype": "text/x-python",
   "name": "python",
   "nbconvert_exporter": "python",
   "pygments_lexer": "ipython3",
   "version": "3.8.8"
  }
 },
 "nbformat": 4,
 "nbformat_minor": 5
}
